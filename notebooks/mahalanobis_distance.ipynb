{
 "cells": [
  {
   "cell_type": "code",
   "execution_count": 1,
   "metadata": {},
   "outputs": [],
   "source": [
    "%load_ext autoreload\n",
    "%autoreload 2"
   ]
  },
  {
   "cell_type": "code",
   "execution_count": 2,
   "metadata": {},
   "outputs": [],
   "source": [
    "import matplotlib.pyplot as plt\n",
    "import matplotlib.cm as cm\n",
    "\n",
    "import numpy as np\n",
    "\n",
    "import sys\n",
    "sys.path.append(\"..\")\n",
    "from encoder_learning_benchmarks.common import numerical_jacobian\n",
    "from encoder_learning_benchmarks.mahalanobis_distance import MahalanobisDistance\n",
    "\n",
    "np.set_printoptions(precision=4, suppress=True)"
   ]
  },
  {
   "cell_type": "code",
   "execution_count": 3,
   "metadata": {},
   "outputs": [],
   "source": [
    "x = [[0, 1], [1, 1], [1, 0], [-1, 0]]\n",
    "y = [[3, 0], [2, 0], [0, 1], [1, 2], [-1, 2]]\n",
    "theta = [[1, 0.1, 2], [0, 0, 0], [1, 0, -1], [0, -1, 0], [0, 1, 2]]\n",
    "d = MahalanobisDistance(2)"
   ]
  },
  {
   "cell_type": "code",
   "execution_count": 4,
   "metadata": {},
   "outputs": [
    {
     "name": "stdout",
     "output_type": "stream",
     "text": [
      "[[[33.4612 22.1766]]\n",
      "\n",
      " [[18.6831 11.3034]]\n",
      "\n",
      " [[29.5562 21.7463]]\n",
      "\n",
      " [[59.1124 43.4925]]]\n",
      "[[[ 4. -2.]]\n",
      "\n",
      " [[ 2. -2.]]\n",
      "\n",
      " [[ 2. -0.]]\n",
      "\n",
      " [[ 6. -0.]]]\n",
      "[[[ -0.      -0.    ]]\n",
      "\n",
      " [[-14.7781   5.4366]]\n",
      "\n",
      " [[-20.2147   9.4366]]\n",
      "\n",
      " [[  9.3415  -1.4366]]]\n",
      "[[[ 2. -0.]]\n",
      "\n",
      " [[-0. -0.]]\n",
      "\n",
      " [[-0. -0.]]\n",
      "\n",
      " [[ 4. -0.]]]\n",
      "[[[ 2.     18.7781]]\n",
      "\n",
      " [[-0.     14.7781]]\n",
      "\n",
      " [[ 4.     37.5562]]\n",
      "\n",
      " [[ 8.     45.5562]]]\n"
     ]
    }
   ],
   "source": [
    "for i in range(len(y)):\n",
    "    print(-d.jacobian(x, y, theta)[0][:, i:(i+1), :])"
   ]
  },
  {
   "cell_type": "code",
   "execution_count": 5,
   "metadata": {},
   "outputs": [
    {
     "name": "stdout",
     "output_type": "stream",
     "text": [
      "[[[33.4612 22.1766]]\n",
      "\n",
      " [[18.6831 11.3034]]\n",
      "\n",
      " [[29.5562 21.7463]]\n",
      "\n",
      " [[59.1124 43.4925]]]\n",
      "[[[ 4. -2.]]\n",
      "\n",
      " [[ 2. -2.]]\n",
      "\n",
      " [[ 2.  0.]]\n",
      "\n",
      " [[ 6.  0.]]]\n",
      "[[[  0.       0.    ]]\n",
      "\n",
      " [[-14.7781   5.4366]]\n",
      "\n",
      " [[-20.2147   9.4366]]\n",
      "\n",
      " [[  9.3415  -1.4366]]]\n",
      "[[[2. 0.]]\n",
      "\n",
      " [[0. 0.]]\n",
      "\n",
      " [[0. 0.]]\n",
      "\n",
      " [[4. 0.]]]\n",
      "[[[ 2.     18.7781]]\n",
      "\n",
      " [[ 0.     14.7781]]\n",
      "\n",
      " [[ 4.     37.5562]]\n",
      "\n",
      " [[ 8.     45.5562]]]\n"
     ]
    }
   ],
   "source": [
    "for i in range(len(y)):\n",
    "    f = lambda y: d(x, y, theta[i])\n",
    "    print(numerical_jacobian(f, y[i]))"
   ]
  },
  {
   "cell_type": "code",
   "execution_count": 6,
   "metadata": {},
   "outputs": [
    {
     "name": "stdout",
     "output_type": "stream",
     "text": [
      "[[[100.3836   2.4428 -12.3097]]\n",
      "\n",
      " [[ 37.3662   2.4428  -6.8731]]\n",
      "\n",
      " [[ 59.1124   0.      -0.    ]]\n",
      "\n",
      " [[236.4498   0.      -0.    ]]]\n",
      "[[[ 8.  2. -4.]]\n",
      "\n",
      " [[ 2.  2. -2.]]\n",
      "\n",
      " [[ 2.  0. -0.]]\n",
      "\n",
      " [[18.  0. -0.]]]\n",
      "[[[ 0.      0.      0.    ]]\n",
      "\n",
      " [[14.7781  0.      0.    ]]\n",
      "\n",
      " [[20.2147  2.     -7.4366]]\n",
      "\n",
      " [[ 9.3415  2.      3.4366]]]\n",
      "[[[ 2. -0.  2.]]\n",
      "\n",
      " [[ 0. -0. -0.]]\n",
      "\n",
      " [[ 0. -0. -0.]]\n",
      "\n",
      " [[ 8. -0.  8.]]]\n",
      "[[[-2.     14.7781  2.    ]]\n",
      "\n",
      " [[ 0.     14.7781 -0.    ]]\n",
      "\n",
      " [[-8.     59.1124  8.    ]]\n",
      "\n",
      " [[-0.     59.1124 16.    ]]]\n"
     ]
    }
   ],
   "source": [
    "for i in range(len(y)):\n",
    "    print(d.jacobian(x, y, theta)[2][:, i:(i+1), :])"
   ]
  },
  {
   "cell_type": "code",
   "execution_count": 7,
   "metadata": {},
   "outputs": [
    {
     "name": "stdout",
     "output_type": "stream",
     "text": [
      "[[[100.3836   2.4428 -12.3097]]\n",
      "\n",
      " [[ 37.3662   2.4428  -6.8731]]\n",
      "\n",
      " [[ 59.1124   0.       0.    ]]\n",
      "\n",
      " [[236.4498   0.       0.    ]]]\n",
      "[[[ 8.  2. -4.]]\n",
      "\n",
      " [[ 2.  2. -2.]]\n",
      "\n",
      " [[ 2.  0.  0.]]\n",
      "\n",
      " [[18.  0.  0.]]]\n",
      "[[[ 0.      0.      0.    ]]\n",
      "\n",
      " [[14.7781  0.      0.    ]]\n",
      "\n",
      " [[20.2147  2.     -7.4366]]\n",
      "\n",
      " [[ 9.3415  2.      3.4366]]]\n",
      "[[[ 2.  0.  2.]]\n",
      "\n",
      " [[ 0. -0.  0.]]\n",
      "\n",
      " [[ 0. -0.  0.]]\n",
      "\n",
      " [[ 8.  0.  8.]]]\n",
      "[[[-2.     14.7781  2.    ]]\n",
      "\n",
      " [[ 0.     14.7781  0.    ]]\n",
      "\n",
      " [[-8.     59.1124  8.    ]]\n",
      "\n",
      " [[ 0.     59.1124 16.    ]]]\n"
     ]
    }
   ],
   "source": [
    "for i in range(len(y)):\n",
    "    f = lambda theta: d(x, y[i], theta)\n",
    "    print(numerical_jacobian(f, theta[i]))"
   ]
  },
  {
   "cell_type": "code",
   "execution_count": null,
   "metadata": {},
   "outputs": [],
   "source": []
  }
 ],
 "metadata": {
  "kernelspec": {
   "display_name": "Python 3",
   "language": "python",
   "name": "python3"
  },
  "language_info": {
   "codemirror_mode": {
    "name": "ipython",
    "version": 3
   },
   "file_extension": ".py",
   "mimetype": "text/x-python",
   "name": "python",
   "nbconvert_exporter": "python",
   "pygments_lexer": "ipython3",
   "version": "3.8.5"
  }
 },
 "nbformat": 4,
 "nbformat_minor": 4
}
