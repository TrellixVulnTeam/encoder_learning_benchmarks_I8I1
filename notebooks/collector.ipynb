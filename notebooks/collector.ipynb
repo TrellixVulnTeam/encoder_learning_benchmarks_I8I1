{
 "cells": [
  {
   "cell_type": "code",
   "execution_count": 1,
   "metadata": {},
   "outputs": [],
   "source": [
    "%load_ext autoreload\n",
    "%autoreload 2"
   ]
  },
  {
   "cell_type": "code",
   "execution_count": 2,
   "metadata": {},
   "outputs": [],
   "source": [
    "import sys\n",
    "sys.path.append(\"..\")\n",
    "import encoder_learning_benchmarks"
   ]
  },
  {
   "cell_type": "code",
   "execution_count": 9,
   "metadata": {},
   "outputs": [
    {
     "data": {
      "text/plain": [
       "[<module 'encoder_learning_benchmarks.rules.lstsq' from '../encoder_learning_benchmarks/rules/lstsq.py'>,\n",
       " <module 'encoder_learning_benchmarks.rules.pes' from '../encoder_learning_benchmarks/rules/pes.py'>,\n",
       " <module 'encoder_learning_benchmarks.rules.backprop' from '../encoder_learning_benchmarks/rules/backprop.py'>,\n",
       " <module 'encoder_learning_benchmarks.rules.feedback_alignment' from '../encoder_learning_benchmarks/rules/feedback_alignment.py'>,\n",
       " <module 'encoder_learning_benchmarks.rules.voja' from '../encoder_learning_benchmarks/rules/voja.py'>,\n",
       " <module 'encoder_learning_benchmarks.rules.oja' from '../encoder_learning_benchmarks/rules/oja.py'>]"
      ]
     },
     "execution_count": 9,
     "metadata": {},
     "output_type": "execute_result"
    }
   ],
   "source": [
    "encoder_learning_benchmarks.collector._collect_submodules(encoder_learning_benchmarks.rules)"
   ]
  },
  {
   "cell_type": "code",
   "execution_count": 13,
   "metadata": {},
   "outputs": [],
   "source": [
    "tasks = encoder_learning_benchmarks.collector.collect_tasks()"
   ]
  }
 ],
 "metadata": {
  "kernelspec": {
   "display_name": "Python 3",
   "language": "python",
   "name": "python3"
  },
  "language_info": {
   "codemirror_mode": {
    "name": "ipython",
    "version": 3
   },
   "file_extension": ".py",
   "mimetype": "text/x-python",
   "name": "python",
   "nbconvert_exporter": "python",
   "pygments_lexer": "ipython3",
   "version": "3.8.5"
  }
 },
 "nbformat": 4,
 "nbformat_minor": 4
}
